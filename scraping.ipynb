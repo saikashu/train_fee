{
 "cells": [
  {
   "cell_type": "code",
   "execution_count": 2,
   "metadata": {},
   "outputs": [
    {
     "name": "stderr",
     "output_type": "stream",
     "text": [
      "C:\\Users\\saika\\AppData\\Local\\Temp/ipykernel_10220/2397607972.py:8: DeprecationWarning: executable_path has been deprecated, please pass in a Service object\n",
      "  driver = webdriver.Chrome('chromedriver.exe')\n",
      "C:\\Users\\saika\\AppData\\Local\\Temp/ipykernel_10220/2397607972.py:15: DeprecationWarning: find_element_by_xpath is deprecated. Please use find_element(by=By.XPATH, value=xpath) instead\n",
      "  strValue =  driver.find_element_by_xpath(\"//*[@id='rsltlst']/li[1]/dl/dd/ul/li[2]\").text\n"
     ]
    }
   ],
   "source": [
    "from selenium import webdriver\n",
    "from time import sleep\n",
    "import pandas as pd\n",
    "import openpyxl\n",
    "\n",
    "strValue = ''\n",
    "fee = 0\n",
    "driver = webdriver.Chrome('chromedriver.exe')\n",
    "df = pd.read_excel('sample.xlsm')\n",
    "\n",
    "for i in range(len(df)):\n",
    "  # yahoo路線情報ページを開く\n",
    "  driver.get(df.loc[i,'URL'])\n",
    "  # htmlから取得する\n",
    "  strValue =  driver.find_element_by_xpath(\"//*[@id='rsltlst']/li[1]/dl/dd/ul/li[2]\").text\n",
    "  # 最後の一文字を削除\n",
    "  strValue = strValue[:-1]\n",
    "  # ,を''に置換する\n",
    "  strValue = strValue.replace(',','')\n",
    "  # 片道/往復計算\n",
    "  if df.loc[i,'片道/往復'] == \"片道\" :\n",
    "    fee = int(strValue)\n",
    "  elif df.loc[i,'片道/往復'] == \"往復\" :\n",
    "    fee = int(strValue) * 2\n",
    "  # エクセルに書き込み\n",
    "  wb = openpyxl.load_workbook('sample.xlsm',keep_vba=True)\n",
    "  sheet = wb['Sheet1']\n",
    "  sheet.cell(row=i+2, column=5).value = fee\n",
    "  wb.save('sample.xlsm')\n",
    "  wb.close()\n",
    "  # サーバー負荷対策\n",
    "  sleep(0.5)\n",
    "\n",
    "driver.close()"
   ]
  }
 ],
 "metadata": {
  "interpreter": {
   "hash": "ff4f85d6e04298634172ac5d8264e7e9b556b95639fe52ebb9425c4d4cba0c9c"
  },
  "kernelspec": {
   "display_name": "Python 3.9.7 ('base')",
   "language": "python",
   "name": "python3"
  },
  "language_info": {
   "codemirror_mode": {
    "name": "ipython",
    "version": 3
   },
   "file_extension": ".py",
   "mimetype": "text/x-python",
   "name": "python",
   "nbconvert_exporter": "python",
   "pygments_lexer": "ipython3",
   "version": "3.9.7"
  },
  "orig_nbformat": 4
 },
 "nbformat": 4,
 "nbformat_minor": 2
}
